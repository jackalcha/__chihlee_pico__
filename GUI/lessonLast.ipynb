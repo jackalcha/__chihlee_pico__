{
 "cells": [
  {
   "cell_type": "code",
   "execution_count": 8,
   "metadata": {},
   "outputs": [
    {
     "name": "stdout",
     "output_type": "stream",
     "text": [
      "12345\n",
      "54321\n"
     ]
    }
   ],
   "source": [
    "import requests\n",
    "\n",
    "url = 'https://blynk.cloud/external/api/get?token=_OgXaLhGv-t1s-Gw8j5I5Sr_5b-2zUov&v1&v0'\n",
    "\n",
    "response = requests.request(\"GET\",url)\n",
    "if response.status_code == 200:\n",
    "    all_data = response.json()\n",
    "    print (all_data['v0'])\n",
    "    print (all_data['v1'])"
   ]
  }
 ],
 "metadata": {
  "kernelspec": {
   "display_name": "Python 3",
   "language": "python",
   "name": "python3"
  },
  "language_info": {
   "codemirror_mode": {
    "name": "ipython",
    "version": 3
   },
   "file_extension": ".py",
   "mimetype": "text/x-python",
   "name": "python",
   "nbconvert_exporter": "python",
   "pygments_lexer": "ipython3",
   "version": "3.10.13"
  }
 },
 "nbformat": 4,
 "nbformat_minor": 2
}
