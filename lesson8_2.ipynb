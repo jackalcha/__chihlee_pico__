{
 "cells": [
  {
   "cell_type": "code",
   "execution_count": 1,
   "metadata": {},
   "outputs": [
    {
     "name": "stdout",
     "output_type": "stream",
     "text": [
      "Hello! Pytihon!\n",
      "Hello! Pytihon!\n",
      "Hello! Pytihon!\n"
     ]
    }
   ],
   "source": [
    "#建立一個function\n",
    "#沒有參數,沒有傳出值的funtion\n",
    "def sayHello():\n",
    "    print(\"Hello! Pytihon!\")\n",
    "\n",
    "sayHello()\n",
    "sayHello()\n",
    "sayHello()\n"
   ]
  }
 ],
 "metadata": {
  "kernelspec": {
   "display_name": "Python 3",
   "language": "python",
   "name": "python3"
  },
  "language_info": {
   "codemirror_mode": {
    "name": "ipython",
    "version": 3
   },
   "file_extension": ".py",
   "mimetype": "text/x-python",
   "name": "python",
   "nbconvert_exporter": "python",
   "pygments_lexer": "ipython3",
   "version": "3.10.13"
  }
 },
 "nbformat": 4,
 "nbformat_minor": 2
}
