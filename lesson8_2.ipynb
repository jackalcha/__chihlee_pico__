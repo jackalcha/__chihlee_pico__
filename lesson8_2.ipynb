{
 "cells": [
  {
   "cell_type": "code",
   "execution_count": 1,
   "metadata": {},
   "outputs": [
    {
     "name": "stdout",
     "output_type": "stream",
     "text": [
      "Hello! Pytihon!\n",
      "Hello! Pytihon!\n",
      "Hello! Pytihon!\n"
     ]
    }
   ],
   "source": [
    "#建立一個function\n",
    "#沒有參數,沒有傳出值的funtion\n",
    "def sayHello():\n",
    "    print(\"Hello! Python!\")\n",
    "\n",
    "sayHello()\n",
    "sayHello()\n",
    "sayHello()\n"
   ]
  },
  {
   "cell_type": "code",
   "execution_count": 13,
   "metadata": {},
   "outputs": [
    {
     "name": "stdout",
     "output_type": "stream",
     "text": [
      "Hello! Mr. -> 少年:徐國堂!\n",
      "Hello! -> 中年:robert!\n",
      "Hello! Ms. -> 壯年:jenny!\n",
      "Hello! Ms. -> 老年:alice!\n"
     ]
    }
   ],
   "source": [
    "#參數的default value,呼叫時可以省略\n",
    "#參數的default value,定義時一定要在最後\n",
    "def sayHello(name,age,is_male=None):\n",
    "    if is_male is None:\n",
    "        prefix=\"\"\n",
    "    elif is_male:\n",
    "        prefix=\"Mr. \"\n",
    "    else:\n",
    "        prefix=\"Ms. \"\n",
    "\n",
    "    if age<18:\n",
    "        alias = \"少年\"\n",
    "    elif age<30:\n",
    "        alias = \"中年\"\n",
    "    elif age<50:\n",
    "        alias = \"壯年\"\n",
    "    else:\n",
    "        alias = \"老年\"\n",
    "    \n",
    "    print(f'Hello! {prefix}-> {alias}:{name}!')\n",
    "\n",
    "#引數值的呼叫要依順序\n",
    "sayHello(\"徐國堂\",13,is_male=True)\n",
    "sayHello(\"robert\",25)\n",
    "sayHello(\"jenny\",45,is_male=False)\n",
    "sayHello(\"alice\",65,is_male=False)"
   ]
  },
  {
   "cell_type": "code",
   "execution_count": 14,
   "metadata": {},
   "outputs": [
    {
     "name": "stdout",
     "output_type": "stream",
     "text": [
      "Hello! -> 少年:徐國堂!\n",
      "Hello! -> 中年:robert!\n"
     ]
    }
   ],
   "source": [
    "#引數名稱的呼叫\n",
    "#可以不依順序\n",
    "sayHello(name=\"徐國堂\",age=13)\n",
    "sayHello(age=25,name=\"robert\")"
   ]
  },
  {
   "cell_type": "code",
   "execution_count": 15,
   "metadata": {},
   "outputs": [
    {
     "name": "stdout",
     "output_type": "stream",
     "text": [
      "Hello! -> 少年:徐國堂!\n",
      "Hello! -> 中年:robert!\n"
     ]
    }
   ],
   "source": [
    "#混合呼叫\n",
    "#引數值呼叫在前面,引數名稱在後面\n",
    "#使用引數名稱後,後面全部要使引數名稱的呼叫\n",
    "sayHello(\"徐國堂\",age=13)\n",
    "sayHello(\"robert\",age=25)"
   ]
  }
 ],
 "metadata": {
  "kernelspec": {
   "display_name": "Python 3",
   "language": "python",
   "name": "python3"
  },
  "language_info": {
   "codemirror_mode": {
    "name": "ipython",
    "version": 3
   },
   "file_extension": ".py",
   "mimetype": "text/x-python",
   "name": "python",
   "nbconvert_exporter": "python",
   "pygments_lexer": "ipython3",
   "version": "3.10.13"
  }
 },
 "nbformat": 4,
 "nbformat_minor": 2
}
