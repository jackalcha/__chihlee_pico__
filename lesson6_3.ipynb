{
 "cells": [
  {
   "cell_type": "code",
   "execution_count": 10,
   "metadata": {},
   "outputs": [
    {
     "name": "stdout",
     "output_type": "stream",
     "text": [
      "=============猜數字遊戲============\n",
      "猜數字範圍1~100:50\n",
      "再大一點\n",
      "您已經猜了1次\n",
      "猜數字範圍49~100:75\n",
      "再大一點\n",
      "您已經猜了2次\n",
      "猜數字範圍74~100:88\n",
      "再小一點\n",
      "您已經猜了3次\n",
      "猜數字範圍74~87:80\n",
      "再大一點\n",
      "您已經猜了4次\n",
      "猜數字範圍79~87:84\n",
      "賓果!猜對了,答案是:84\n"
     ]
    },
    {
     "ename": "NameError",
     "evalue": "name 'oount' is not defined",
     "output_type": "error",
     "traceback": [
      "\u001b[0;31m---------------------------------------------------------------------------\u001b[0m",
      "\u001b[0;31mNameError\u001b[0m                                 Traceback (most recent call last)",
      "\u001b[1;32m/workspaces/__chihlee_pico__/lesson6_3.ipynb 儲存格 1\u001b[0m line \u001b[0;36m1\n\u001b[1;32m     <a href='vscode-notebook-cell://codespaces%2Bcuddly-space-sniffle-pv565v6g7wg2gvr/workspaces/__chihlee_pico__/lesson6_3.ipynb#W2sdnNjb2RlLXJlbW90ZQ%3D%3D?line=12'>13</a>\u001b[0m \u001b[39mif\u001b[39;00m(keyin \u001b[39m==\u001b[39m randomNum):\n\u001b[1;32m     <a href='vscode-notebook-cell://codespaces%2Bcuddly-space-sniffle-pv565v6g7wg2gvr/workspaces/__chihlee_pico__/lesson6_3.ipynb#W2sdnNjb2RlLXJlbW90ZQ%3D%3D?line=13'>14</a>\u001b[0m     \u001b[39mprint\u001b[39m(\u001b[39mf\u001b[39m\u001b[39m\"\u001b[39m\u001b[39m賓果!猜對了,答案是:\u001b[39m\u001b[39m{\u001b[39;00mrandomNum\u001b[39m}\u001b[39;00m\u001b[39m\"\u001b[39m)\n\u001b[0;32m---> <a href='vscode-notebook-cell://codespaces%2Bcuddly-space-sniffle-pv565v6g7wg2gvr/workspaces/__chihlee_pico__/lesson6_3.ipynb#W2sdnNjb2RlLXJlbW90ZQ%3D%3D?line=14'>15</a>\u001b[0m     \u001b[39mprint\u001b[39m(\u001b[39mf\u001b[39m\u001b[39m\"\u001b[39m\u001b[39m您共猜了:\u001b[39m\u001b[39m{\u001b[39;00moount\u001b[39m}\u001b[39;00m\u001b[39m次\u001b[39m\u001b[39m\"\u001b[39m)\n\u001b[1;32m     <a href='vscode-notebook-cell://codespaces%2Bcuddly-space-sniffle-pv565v6g7wg2gvr/workspaces/__chihlee_pico__/lesson6_3.ipynb#W2sdnNjb2RlLXJlbW90ZQ%3D%3D?line=15'>16</a>\u001b[0m     \u001b[39mbreak\u001b[39;00m\n\u001b[1;32m     <a href='vscode-notebook-cell://codespaces%2Bcuddly-space-sniffle-pv565v6g7wg2gvr/workspaces/__chihlee_pico__/lesson6_3.ipynb#W2sdnNjb2RlLXJlbW90ZQ%3D%3D?line=16'>17</a>\u001b[0m \u001b[39melif\u001b[39;00m keyin \u001b[39m>\u001b[39m randomNum:\n",
      "\u001b[0;31mNameError\u001b[0m: name 'oount' is not defined"
     ]
    }
   ],
   "source": [
    "import random\n",
    "import pyinputplus as pyip\n",
    "min = 1\n",
    "max = 100\n",
    "count = 0\n",
    "randomNum = random.randint(min,max)\n",
    "\n",
    "print(\"=============猜數字遊戲============\")\n",
    "while True:\n",
    "    keyin = pyip.inputInt(f\"猜數字範圍{min}~{max}:\",min=min,max=max)\n",
    "    print(keyin)\n",
    "    count += 1\n",
    "    if(keyin == randomNum):\n",
    "        print(f\"賓果!猜對了,答案是:{randomNum}\")\n",
    "        print(f\"您共猜了:{oount}次\")\n",
    "        break\n",
    "    elif keyin > randomNum:\n",
    "        print(\"再小一點\")\n",
    "        max = keyin - 1\n",
    "    elif keyin < randomNum:\n",
    "        print (\"再大一點\")\n",
    "        min = keyin - 1\n",
    "    print(f\"您已經猜了{count}次\")\n",
    "\n",
    "print(\"Game Over!\")"
   ]
  }
 ],
 "metadata": {
  "kernelspec": {
   "display_name": "Python 3",
   "language": "python",
   "name": "python3"
  },
  "language_info": {
   "codemirror_mode": {
    "name": "ipython",
    "version": 3
   },
   "file_extension": ".py",
   "mimetype": "text/x-python",
   "name": "python",
   "nbconvert_exporter": "python",
   "pygments_lexer": "ipython3",
   "version": "3.10.13"
  }
 },
 "nbformat": 4,
 "nbformat_minor": 2
}
