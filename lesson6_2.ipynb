{
 "cells": [
  {
   "cell_type": "code",
   "execution_count": 1,
   "metadata": {},
   "outputs": [
    {
     "data": {
      "text/plain": [
       "55"
      ]
     },
     "execution_count": 1,
     "metadata": {},
     "output_type": "execute_result"
    }
   ],
   "source": [
    "#while迴圈明確知道執行的次數\n",
    "value = 0\n",
    "i = 1\n",
    "while  i <= 10:\n",
    "    value += i\n",
    "    i += 1\n",
    "value"
   ]
  },
  {
   "cell_type": "code",
   "execution_count": 4,
   "metadata": {},
   "outputs": [
    {
     "name": "stdout",
     "output_type": "stream",
     "text": [
      "請輸入1月份的存款:5000\n",
      "請輸入2月份的存款:5000\n",
      "請輸入3月份的存款:3000\n",
      "請輸入4月份的存款:4000\n",
      "請輸入5月份的存款:6000\n",
      "請輸入6月份的存款:7\n",
      "請輸入7月份的存款:7000\n",
      "恭喜!已經存夠了,共存了7個月,總存款為30007\n"
     ]
    }
   ],
   "source": [
    "#小明想要存錢買一輛機車,機車每輛30000元，他將每月存的錢輸入，當存款足夠買機車時，就顯示提示訊息告知。\n",
    "#不知道執行的次數\n",
    "import pyinputplus as pyip\n",
    "\n",
    "num = 0\n",
    "deposit = 0\n",
    "while(deposit < 30000):\n",
    "    num += 1\n",
    "    month_value = pyip.inputInt(f\"請輸入{num}月份的存款:\")\n",
    "    print(month_value)\n",
    "    deposit += month_value\n",
    "\n",
    "print(f\"恭喜!已經存夠了,共存了{num}個月,總存款為{deposit}\")"
   ]
  },
  {
   "cell_type": "code",
   "execution_count": 6,
   "metadata": {},
   "outputs": [
    {
     "name": "stdout",
     "output_type": "stream",
     "text": [
      "請輸入學生成績:100\n",
      "請輸入學生成績:Number must be at maximum 100.\n",
      "請輸入學生成績:100\n",
      "請輸入學生成績:100\n",
      "請輸入學生成績:-5\n",
      "學生總分為:300\n"
     ]
    }
   ],
   "source": [
    "#小美是一位教師，請你以while迴圈方式為小美設計一個輸入成績的程式，如果輸入負數表示成績輸入結束，在輸入成績\n",
    "inputvalue = 0\n",
    "sum = 0\n",
    "while(inputvalue >= 0):\n",
    "    inputvalue = pyip.inputInt(\"請輸入學生成績:\",max=100)\n",
    "    print(inputvalue)\n",
    "    if inputvalue >= 0:\n",
    "        sum += inputvalue\n",
    "print(f\"學生總分為:{sum}\")"
   ]
  }
 ],
 "metadata": {
  "kernelspec": {
   "display_name": "Python 3",
   "language": "python",
   "name": "python3"
  },
  "language_info": {
   "codemirror_mode": {
    "name": "ipython",
    "version": 3
   },
   "file_extension": ".py",
   "mimetype": "text/x-python",
   "name": "python",
   "nbconvert_exporter": "python",
   "pygments_lexer": "ipython3",
   "version": "3.10.13"
  }
 },
 "nbformat": 4,
 "nbformat_minor": 2
}
